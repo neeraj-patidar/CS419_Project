{
  "nbformat": 4,
  "nbformat_minor": 0,
  "metadata": {
    "colab": {
      "name": "Final CS 419  Project Code.ipynb",
      "provenance": [],
      "collapsed_sections": []
    },
    "kernelspec": {
      "name": "python3",
      "display_name": "Python 3"
    },
    "language_info": {
      "name": "python"
    }
  },
  "cells": [
    {
      "cell_type": "code",
      "source": [
        "from google.colab import drive\n",
        "drive.mount('/content/drive')"
      ],
      "metadata": {
        "id": "qfC2LPl5ObVB",
        "colab": {
          "base_uri": "https://localhost:8080/"
        },
        "outputId": "495f6d8f-0a7f-4d5e-fd82-a44c0f1ffb36"
      },
      "execution_count": 1,
      "outputs": [
        {
          "output_type": "stream",
          "name": "stdout",
          "text": [
            "Mounted at /content/drive\n"
          ]
        }
      ]
    },
    {
      "cell_type": "code",
      "execution_count": 2,
      "metadata": {
        "id": "ufJjiGvR1pbd"
      },
      "outputs": [],
      "source": [
        "#importing all libraries used here\n",
        "import pandas as pd\n",
        "import numpy as np\n",
        "import torch\n",
        "from torch import nn\n",
        "import matplotlib.pyplot as plt"
      ]
    },
    {
      "cell_type": "code",
      "source": [
        "#stock of which future prices are predicted\n",
        "stock='SRTRANSFIN'"
      ],
      "metadata": {
        "id": "mRw5jEELrISl"
      },
      "execution_count": 3,
      "outputs": []
    },
    {
      "cell_type": "code",
      "source": [
        "#loading data and creating features\n",
        "raw_data = pd.read_csv(\"/content/drive/MyDrive/419_project/FINAL_FROM_DF.csv\")\n",
        "x=pd.to_datetime(raw_data['TIMESTAMP'])\n",
        "raw_data['DATE']=x.dt.day\n",
        "raw_data['MONTH']=x.dt.month\n",
        "raw_data['YEAR']=x.dt.year\n",
        "del x\n",
        "\n",
        "x_stock = raw_data[raw_data.SYMBOL==stock][['SERIES','TIMESTAMP','DATE','MONTH','YEAR']]\n",
        "x_stock=x_stock.reset_index()\n",
        "x_stock=x_stock.drop(labels=['index'],axis=1)\n",
        "\n",
        "temp=x_stock\n",
        "t = temp.groupby(\"SERIES\").size().sort_values().index\n",
        "dic=dict()\n",
        "for k in range(len(t)):\n",
        "  dic[t[k]]=k+1\n",
        "del temp,t\n",
        "dic['nan']=0\n",
        "print(\"series: \",dic)\n",
        "temp=list(x_stock['SERIES'])\n",
        "temp2=[]\n",
        "for p in range(len(temp)):\n",
        "  try:\n",
        "    temp2.append(dic[str(temp[p])])\n",
        "  except:\n",
        "    print(temp[p])\n",
        "temp=pd.DataFrame(temp2,columns=['SER'])\n",
        "\n",
        "x_stock['N_SERIES']=temp['SER']\n",
        "print(x_stock.columns)\n",
        "size=len(x_stock)"
      ],
      "metadata": {
        "colab": {
          "base_uri": "https://localhost:8080/"
        },
        "id": "VY_qRzh8cFhE",
        "outputId": "952e24ef-d1b2-4d60-cbf7-6baf312c7331"
      },
      "execution_count": 4,
      "outputs": [
        {
          "output_type": "stream",
          "name": "stdout",
          "text": [
            "series:  {'NB': 1, 'NG': 2, 'NN': 3, 'Y5': 4, 'NM': 5, 'YD': 6, 'NI': 7, 'Y4': 8, 'NY': 9, 'NV': 10, 'Y6': 11, 'YC': 12, 'NL': 13, 'Y1': 14, 'YG': 15, 'Y2': 16, 'YA': 17, 'NF': 18, 'Y8': 19, 'N9': 20, 'Y7': 21, 'Y3': 22, 'NZ': 23, 'YB': 24, 'NU': 25, 'NS': 26, 'Y9': 27, 'NX': 28, 'NW': 29, 'EQ': 30, 'nan': 0}\n",
            "Index(['SERIES', 'TIMESTAMP', 'DATE', 'MONTH', 'YEAR', 'N_SERIES'], dtype='object')\n"
          ]
        }
      ]
    },
    {
      "cell_type": "markdown",
      "source": [
        "Linear Regression"
      ],
      "metadata": {
        "id": "0Y9cJhr2vh7s"
      }
    },
    {
      "cell_type": "code",
      "source": [
        "#linear regression class\n",
        "class linearRegression(torch.nn.Module):\n",
        "  def __init__(self,input_size,output_size):\n",
        "    super(linearRegression,self).__init__()\n",
        "    self.linear=torch.nn.Linear(input_size,output_size)\n",
        "  def forward(self,x):\n",
        "    out=self.linear(x)\n",
        "    return out"
      ],
      "metadata": {
        "id": "u0pDF3pdpwaW"
      },
      "execution_count": null,
      "outputs": []
    },
    {
      "cell_type": "code",
      "source": [
        "#initializing model and other parameters\n",
        "inputDim=4\n",
        "outputDim=1\n",
        "learningRate=1e-2\n",
        "epochs=100\n",
        "model=linearRegression(inputDim,outputDim)\n",
        "loss_function=torch.nn.MSELoss()\n",
        "optimizer = torch.optim.Adam(model.parameters(),lr=learningRate)"
      ],
      "metadata": {
        "id": "UJegQcwA6db3"
      },
      "execution_count": null,
      "outputs": []
    },
    {
      "cell_type": "code",
      "source": [
        "#training model in batch of 20 samples per iteration for each epoch\n",
        "x_train=torch.tensor(x_stock.drop(labels=['SERIES','TIMESTAMP'],axis=1).to_numpy()).to(torch.float)\n",
        "y_train=torch.tensor(raw_data[raw_data.SYMBOL==stock][['CLOSE']].to_numpy()).to(torch.float)\n",
        "for epoch in range(epochs):\n",
        "  for k in range(0,size,20):\n",
        "    x=x_train[k:k+20]\n",
        "    y=y_train[k:k+20]\n",
        "    optimizer.zero_grad()\n",
        "    output=model(x)\n",
        "    loss=loss_function(output,y)\n",
        "    loss.backward()\n",
        "    optimizer.step()\n",
        "  print('epoch {}, loss {}'.format(epoch,loss.item()))"
      ],
      "metadata": {
        "id": "wfFqCknBuR8k",
        "colab": {
          "base_uri": "https://localhost:8080/"
        },
        "outputId": "6ed3641b-7537-4fa8-e7c4-d1fcdfe30069"
      },
      "execution_count": null,
      "outputs": [
        {
          "output_type": "stream",
          "name": "stdout",
          "text": [
            "epoch 0, loss 111565.8125\n",
            "epoch 1, loss 110950.5625\n",
            "epoch 2, loss 110050.21875\n",
            "epoch 3, loss 108902.8359375\n",
            "epoch 4, loss 107601.3359375\n",
            "epoch 5, loss 106239.2421875\n",
            "epoch 6, loss 104881.3671875\n",
            "epoch 7, loss 103564.3203125\n",
            "epoch 8, loss 102308.1953125\n",
            "epoch 9, loss 101124.0703125\n",
            "epoch 10, loss 100017.484375\n",
            "epoch 11, loss 98990.0\n",
            "epoch 12, loss 98040.5390625\n",
            "epoch 13, loss 97166.234375\n",
            "epoch 14, loss 96363.171875\n",
            "epoch 15, loss 95626.90625\n",
            "epoch 16, loss 94952.7578125\n",
            "epoch 17, loss 94336.03125\n",
            "epoch 18, loss 93772.1171875\n",
            "epoch 19, loss 93256.71875\n",
            "epoch 20, loss 92785.7109375\n",
            "epoch 21, loss 92355.1875\n",
            "epoch 22, loss 91961.609375\n",
            "epoch 23, loss 91601.71875\n",
            "epoch 24, loss 91272.453125\n",
            "epoch 25, loss 90971.09375\n",
            "epoch 26, loss 90695.1640625\n",
            "epoch 27, loss 90442.375\n",
            "epoch 28, loss 90210.625\n",
            "epoch 29, loss 89998.0390625\n",
            "epoch 30, loss 89802.96875\n",
            "epoch 31, loss 89623.8125\n",
            "epoch 32, loss 89459.2109375\n",
            "epoch 33, loss 89307.8359375\n",
            "epoch 34, loss 89168.59375\n",
            "epoch 35, loss 89040.40625\n",
            "epoch 36, loss 88922.34375\n",
            "epoch 37, loss 88813.546875\n",
            "epoch 38, loss 88713.21875\n",
            "epoch 39, loss 88620.6328125\n",
            "epoch 40, loss 88535.1953125\n",
            "epoch 41, loss 88456.2734375\n",
            "epoch 42, loss 88383.3046875\n",
            "epoch 43, loss 88315.8515625\n",
            "epoch 44, loss 88253.4453125\n",
            "epoch 45, loss 88195.6953125\n",
            "epoch 46, loss 88142.1953125\n",
            "epoch 47, loss 88092.609375\n",
            "epoch 48, loss 88046.640625\n",
            "epoch 49, loss 88004.03125\n",
            "epoch 50, loss 87964.4609375\n",
            "epoch 51, loss 87927.734375\n",
            "epoch 52, loss 87893.59375\n",
            "epoch 53, loss 87861.8515625\n",
            "epoch 54, loss 87832.40625\n",
            "epoch 55, loss 87804.984375\n",
            "epoch 56, loss 87779.484375\n",
            "epoch 57, loss 87755.71875\n",
            "epoch 58, loss 87733.578125\n",
            "epoch 59, loss 87712.9609375\n",
            "epoch 60, loss 87693.75\n",
            "epoch 61, loss 87675.8203125\n",
            "epoch 62, loss 87659.109375\n",
            "epoch 63, loss 87643.5\n",
            "epoch 64, loss 87628.9296875\n",
            "epoch 65, loss 87615.328125\n",
            "epoch 66, loss 87602.5859375\n",
            "epoch 67, loss 87590.71875\n",
            "epoch 68, loss 87579.640625\n",
            "epoch 69, loss 87569.25\n",
            "epoch 70, loss 87559.53125\n",
            "epoch 71, loss 87550.421875\n",
            "epoch 72, loss 87541.9140625\n",
            "epoch 73, loss 87533.953125\n",
            "epoch 74, loss 87526.4609375\n",
            "epoch 75, loss 87519.46875\n",
            "epoch 76, loss 87512.9140625\n",
            "epoch 77, loss 87506.7421875\n",
            "epoch 78, loss 87501.0078125\n",
            "epoch 79, loss 87495.59375\n",
            "epoch 80, loss 87490.5078125\n",
            "epoch 81, loss 87485.734375\n",
            "epoch 82, loss 87481.2890625\n",
            "epoch 83, loss 87477.1328125\n",
            "epoch 84, loss 87473.1875\n",
            "epoch 85, loss 87469.4765625\n",
            "epoch 86, loss 87466.015625\n",
            "epoch 87, loss 87462.75\n",
            "epoch 88, loss 87459.6796875\n",
            "epoch 89, loss 87456.7890625\n",
            "epoch 90, loss 87454.1015625\n",
            "epoch 91, loss 87451.5546875\n",
            "epoch 92, loss 87449.1796875\n",
            "epoch 93, loss 87446.9296875\n",
            "epoch 94, loss 87444.7890625\n",
            "epoch 95, loss 87442.8203125\n",
            "epoch 96, loss 87440.9296875\n",
            "epoch 97, loss 87439.15625\n",
            "epoch 98, loss 87437.515625\n",
            "epoch 99, loss 87435.953125\n"
          ]
        }
      ]
    },
    {
      "cell_type": "code",
      "source": [
        "x_t_eq = x_stock[x_stock.SERIES=='EQ']\n",
        "x_t_eq=torch.tensor(x_t_eq.drop(labels=['SERIES','TIMESTAMP'],axis=1).to_numpy()).to(torch.float)\n",
        "x_t_nw = x_stock[x_stock.SERIES=='NW']\n",
        "x_t_nw=torch.tensor(x_t_nw.drop(labels=['SERIES','TIMESTAMP'],axis=1).to_numpy()).to(torch.float)\n",
        "t1 = model(x_t_eq)\n",
        "y_eq=[]\n",
        "for k in t1:\n",
        "  y_eq.append(k.item())\n",
        "y_eq=pd.DataFrame(y_eq,columns=['CLOSE'])\n",
        "t1=model(x_t_nw)\n",
        "y_nw=[]\n",
        "for k in t1:\n",
        "  y_nw.append(k.item())\n",
        "y_nw=pd.DataFrame(y_nw,columns=['CLOSE'])"
      ],
      "metadata": {
        "id": "nGSG3k9qPie0"
      },
      "execution_count": null,
      "outputs": []
    },
    {
      "cell_type": "code",
      "source": [
        "# torch.save(model.state_dict,\"/content/drive/MyDrive/419_project/model\")\n"
      ],
      "metadata": {
        "id": "48W85MGnS_9f"
      },
      "execution_count": null,
      "outputs": []
    },
    {
      "cell_type": "code",
      "source": [
        "#future 1 month prediction\n",
        "xf_eq1=[]\n",
        "xf_eq2=[]\n",
        "xf_nw1=[]\n",
        "xf_nw2=[]\n",
        "for k in range(1,31):   #creating 1 month features (January-2018) \n",
        "  xf_eq1.append([k,1,2018,dic['EQ']])\n",
        "  xf_nw1.append([k,1,2018,dic['NW']])\n",
        "  if k<10:\n",
        "    xf_eq2.append(\"2018-01-0\"+str(k))\n",
        "    xf_nw2.append(\"2018-01-0\"+str(k))\n",
        "  else:\n",
        "    xf_eq2.append(\"2018-01-\"+str(k))\n",
        "    xf_nw2.append(\"2018-01-\"+str(k))\n",
        "\n",
        "xf_eq1=torch.tensor(xf_eq1).to(torch.float)\n",
        "xf_nw1=torch.tensor(xf_nw1).to(torch.float)\n",
        "xf_eq2=pd.to_datetime(pd.DataFrame(xf_eq2,columns=['TIMESTAMP']).stack()).unstack()\n",
        "xf_nw2=pd.to_datetime(pd.DataFrame(xf_nw2,columns=['TIMESTAMP']).stack()).unstack()\n",
        "pred_eq=model(xf_eq1) #prediction\n",
        "pred_nw=model(xf_nw1)\n",
        "yf_eq=[]\n",
        "yf_nw=[]\n",
        "for y in pred_eq:\n",
        "  yf_eq.append(y.item())\n",
        "for y in pred_nw:\n",
        "  yf_nw.append(y.item())\n",
        "yf_eq=pd.DataFrame(yf_eq,columns=['CLOSE'])\n",
        "yf_nw=pd.DataFrame(yf_nw,columns=['CLOSE'])"
      ],
      "metadata": {
        "id": "lYBdS60jWql2"
      },
      "execution_count": null,
      "outputs": []
    },
    {
      "cell_type": "code",
      "source": [
        "#plotting EQ series data\n",
        "x_eq = x_stock[x_stock.SERIES=='EQ']['TIMESTAMP']\n",
        "x_eq = pd.to_datetime(x_eq)\n",
        "y_eq = y_eq\n",
        "y_eq_a = raw_data[raw_data.SYMBOL==stock]\n",
        "y_eq_a = y_eq_a[y_eq_a.SERIES=='EQ']['CLOSE']\n",
        "\n",
        "f=plt.figure()\n",
        "f.set_figwidth(30)\n",
        "plt.scatter(x_eq,y_eq_a)\n",
        "plt.scatter(x_eq,y_eq)\n",
        "plt.scatter(xf_eq2,yf_eq)\n",
        "plt.title(\"Training Data of SRTRANSFIN(EQ series)\")\n",
        "plt.legend(['Data','Prediction','Future Predictions'])\n",
        "plt.show()"
      ],
      "metadata": {
        "id": "vDHOk3IuiPaP",
        "colab": {
          "base_uri": "https://localhost:8080/",
          "height": 188
        },
        "outputId": "5e18745b-c450-4872-d856-f1251d01523d"
      },
      "execution_count": null,
      "outputs": [
        {
          "output_type": "display_data",
          "data": {
            "text/plain": [
              "<Figure size 2160x288 with 1 Axes>"
            ],
            "image/png": "[encoded data removed]"
          },
          "metadata": {
            "needs_background": "light"
          }
        }
      ]
    },
    {
      "cell_type": "code",
      "source": [
        "#plotting NW series data\n",
        "x_nw = x_stock[x_stock.SERIES=='NW']['TIMESTAMP']\n",
        "x_nw = pd.to_datetime(x_nw)\n",
        "y_nw = y_nw\n",
        "y_nw_a = raw_data[raw_data.SYMBOL==stock]\n",
        "y_nw_a = y_nw_a[y_nw_a.SERIES=='NW']['CLOSE']\n",
        "\n",
        "f=plt.figure()\n",
        "f.set_figwidth(30)\n",
        "plt.scatter(x_nw,y_nw_a)\n",
        "plt.scatter(x_nw,y_nw)\n",
        "plt.scatter(xf_nw2,yf_nw)\n",
        "plt.title(\"Training Data of SRTRANSFIN(NW series)\")\n",
        "plt.legend(['Data','Prediction','Future Predictions'])\n",
        "plt.show()"
      ],
      "metadata": {
        "colab": {
          "base_uri": "https://localhost:8080/",
          "height": 188
        },
        "id": "mp4YYkhjeM0e",
        "outputId": "3f0eae4e-b94f-4c59-f7b9-56b1af952542"
      },
      "execution_count": null,
      "outputs": [
        {
          "output_type": "display_data",
          "data": {
            "text/plain": [
              "<Figure size 2160x288 with 1 Axes>"
            ],
            "image/png": "[encoded data removed]"
          },
          "metadata": {
            "needs_background": "light"
          }
        }
      ]
    },
    {
      "cell_type": "code",
      "source": [
        "###LSTM###"
      ],
      "metadata": {
        "id": "OiztggzXDari"
      },
      "execution_count": null,
      "outputs": []
    },
    {
      "cell_type": "code",
      "source": [
        "data=pd.read_csv(\"/content/drive/MyDrive/419_project/FINAL_FROM_DF.csv\")\n",
        "stock='SRTRANSFIN'\n",
        "data=data[data.SYMBOL==stock]\n",
        "x=pd.DataFrame(pd.to_datetime(data['TIMESTAMP']),columns=['TIMESTAMP'])\n",
        "data=data.drop(labels=[\"TIMESTAMP\"],axis=1)\n",
        "data=data.join(x).sort_values('TIMESTAMP').reset_index().drop(labels=['index'],axis=1)\n",
        "s=len(data)\n",
        "train=data[:int(0.7*s)]\n",
        "test=data[int(0.7*s):]"
      ],
      "metadata": {
        "id": "Xw9ZG7L_7M2W"
      },
      "execution_count": null,
      "outputs": []
    },
    {
      "cell_type": "code",
      "source": [
        "x_train = train.iloc[:, 7:8].values\n",
        "y_train = train.iloc[:, 5:6].values\n",
        "x_test = test.iloc[:, 7:8].values\n",
        "y_test = test.iloc[:, 5:6].values\n"
      ],
      "metadata": {
        "id": "QYanruMyAdg9"
      },
      "execution_count": null,
      "outputs": []
    },
    {
      "cell_type": "code",
      "source": [
        "scaler = StandardScaler()\n",
        "scaler.fit(x_train)\n",
        "x_train = scaler.transform(x_train)\n",
        "scaler.fit(x_test)\n",
        "x_test = scaler.transform(x_test)\n",
        "scaler.fit(y_test)\n",
        "y_test = scaler.transform(y_test)\n",
        "scaler.fit(y_train)\n",
        "y_train = scaler.transform(y_train)\n"
      ],
      "metadata": {
        "id": "VqZGIASwAdcx"
      },
      "execution_count": null,
      "outputs": []
    },
    {
      "cell_type": "code",
      "source": [
        "x_t = []\n",
        "y_t = []\n",
        "for i in range(60, 3296):\n",
        "  x_t.append(x_train[i-60:i,0])\n",
        "  y_t.append(y_train[i,0])\n",
        "\n",
        "x_t = np.array(x_t)\n",
        "y_t = np.array(y_t)"
      ],
      "metadata": {
        "id": "y8aRmgVWAg_7"
      },
      "execution_count": null,
      "outputs": []
    },
    {
      "cell_type": "code",
      "source": [
        "x_t = np.reshape(x_t, (x_t.shape[0], x_t.shape[1],1))"
      ],
      "metadata": {
        "id": "5VOqGftFAiuq"
      },
      "execution_count": null,
      "outputs": []
    },
    {
      "cell_type": "code",
      "source": [
        "from keras.models import Sequential\n",
        "from keras.layers import Dense\n",
        "from keras.layers import LSTM\n",
        "from keras.layers import Dropout"
      ],
      "metadata": {
        "id": "vkx3sqf6Aisw"
      },
      "execution_count": null,
      "outputs": []
    },
    {
      "cell_type": "code",
      "source": [
        "rg = Sequential()\n",
        "rg.add(LSTM(units = 50, return_sequences=True, input_shape = (x_t.shape[1],1)))\n",
        "rg.add(Dropout(0.2))\n",
        "\n",
        "rg.add(LSTM(units = 50, return_sequences= True))\n",
        "rg.add(Dropout(0.2))\n",
        "\n",
        "rg.add(LSTM(units = 50, return_sequences= True))\n",
        "rg.add(Dropout(0.2))\n",
        "\n",
        "rg.add(LSTM(units = 50))\n",
        "rg.add(Dropout(0.2))\n",
        "\n",
        "rg.add(Dense(units=1))"
      ],
      "metadata": {
        "id": "ow3OOqEJAips"
      },
      "execution_count": null,
      "outputs": []
    },
    {
      "cell_type": "code",
      "source": [
        "rg.compile(optimizer= 'adam', loss = 'mean_squared_error')\n",
        "rg.fit(x_t, y_t, epochs = 100, batch_size = 32)"
      ],
      "metadata": {
        "id": "NivLjuiOAdZl"
      },
      "execution_count": null,
      "outputs": []
    },
    {
      "cell_type": "code",
      "source": [
        "x_tt = []\n",
        "for i in range(60,1413):\n",
        "  x_tt.append(x_test[i-60:i, 0])\n",
        "x_tt = np.array(x_tt)\n",
        "x_tt  = np.reshape(x_tt, (x_tt.shape[0], x_tt.shape[1],1))"
      ],
      "metadata": {
        "id": "L8bpsYlfApXv"
      },
      "execution_count": null,
      "outputs": []
    },
    {
      "cell_type": "code",
      "source": [
        "y_prediction5 = rg.predict(x_tt)\n"
      ],
      "metadata": {
        "id": "qvuaPJE4ApVO"
      },
      "execution_count": null,
      "outputs": []
    },
    {
      "cell_type": "code",
      "source": [
        "plt.plot(y_test, color = 'red', label = 'Actual stock price')\n",
        "plt.plot(y_prediction5, color = 'blue', label = 'Predicted stock price')\n",
        "plt.title('Comparison between actual and predicted stock prices')\n",
        "plt.xlabel('Time')\n",
        "plt.ylabel('Stock Price')\n",
        "plt.legend()"
      ],
      "metadata": {
        "id": "N0A_X-nVAdVJ"
      },
      "execution_count": null,
      "outputs": []
    },
    {
      "cell_type": "code",
      "source": [
        "y_test = y_test[60:]"
      ],
      "metadata": {
        "id": "01ZujPgIE8Y1"
      },
      "execution_count": null,
      "outputs": []
    },
    {
      "cell_type": "code",
      "source": [
        "np.sqrt(mean_squared_error(y_test, y_prediction5))"
      ],
      "metadata": {
        "id": "agS9w7q7E9Cz"
      },
      "execution_count": null,
      "outputs": []
    },
    {
      "cell_type": "code",
      "source": [
        "###Random Forest###"
      ],
      "metadata": {
        "id": "G-fexwX2CdP_"
      },
      "execution_count": null,
      "outputs": []
    },
    {
      "cell_type": "code",
      "source": [
        "from sklearn.ensemble import RandomForestRegressor\n"
      ],
      "metadata": {
        "id": "8wsqCLtGCdM0"
      },
      "execution_count": null,
      "outputs": []
    },
    {
      "cell_type": "code",
      "source": [
        "df = pd.read_csv(\"/content/drive/MyDrive/419_project/FINAL_FROM_DF.csv\")\n",
        "x=pd.to_datetime(df['TIMESTAMP'])\n",
        "df['DATE']=x.dt.day\n",
        "df['MONTH']=x.dt.month\n",
        "df['YEAR']=x.dt.year\n",
        "del x"
      ],
      "metadata": {
        "id": "V0ennnyVCdJo"
      },
      "execution_count": null,
      "outputs": []
    },
    {
      "cell_type": "code",
      "source": [
        "stock='SRTRANSFIN'"
      ],
      "metadata": {
        "id": "Md9i5IhUCdGu"
      },
      "execution_count": null,
      "outputs": []
    },
    {
      "cell_type": "code",
      "source": [
        "x_stock = df[df.SYMBOL==stock][['DATE','MONTH','YEAR']]\n",
        "x_stock=torch.tensor(x_stock.to_numpy()).to(torch.float)\n",
        "y_stock = df[df.SYMBOL==stock]['CLOSE']\n",
        "y_stock=torch.tensor(y_stock.to_numpy()).to(torch.float)"
      ],
      "metadata": {
        "id": "y7V8OIkWCdEd"
      },
      "execution_count": null,
      "outputs": []
    },
    {
      "cell_type": "code",
      "source": [
        "model = RandomForestRegressor(n_jobs=-1)\n"
      ],
      "metadata": {
        "id": "i5PxnUZxCdAu"
      },
      "execution_count": null,
      "outputs": []
    },
    {
      "cell_type": "code",
      "source": [
        "estimators = np.arange(10, 200, 10)\n",
        "scores = []\n",
        "for n in estimators:\n",
        "    model.set_params(n_estimators=n)\n",
        "    model.fit(x_train, y_train)\n",
        "    y_prediction4  = model.predict(x_test)\n",
        "    scores.append(model.score(x_test, y_prediction4))\n",
        "plt.title(\"Effect of n_estimators\")\n",
        "plt.xlabel(\"n_estimator\")\n",
        "plt.ylabel(\"score\")\n",
        "plt.plot(estimators, scores)"
      ],
      "metadata": {
        "id": "bJnZaY0iCusU"
      },
      "execution_count": null,
      "outputs": []
    },
    {
      "cell_type": "code",
      "source": [
        "np.sqrt(mean_squared_error(y_test, y_prediction4))"
      ],
      "metadata": {
        "id": "DhknPmk1CupY"
      },
      "execution_count": null,
      "outputs": []
    },
    {
      "cell_type": "code",
      "source": [
        "plt.scatter(y_test, y_prediction4)\n",
        "plt.xlabel(\"Actual Prices\")\n",
        "plt.ylabel(\" Estimated Prices\")\n",
        "plt.title(\"Comparison between actual and estimated prices\")\n",
        "plt.show()"
      ],
      "metadata": {
        "id": "ABvLVnDgCumg"
      },
      "execution_count": null,
      "outputs": []
    },
    {
      "cell_type": "code",
      "source": [
        "plt.plot(y_test, color = 'red', label = 'Actual stock price')\n",
        "plt.plot(y_prediction4, color = 'blue', label = 'Predicted stock price')\n",
        "plt.title('Comparison between actual and predicted stock prices')\n",
        "plt.xlabel('Time')\n",
        "plt.ylabel('Stock Price')\n",
        "plt.legend()"
      ],
      "metadata": {
        "id": "MTc6YRNHCuj0"
      },
      "execution_count": null,
      "outputs": []
    },
    {
      "cell_type": "code",
      "source": [
        "###ANN####"
      ],
      "metadata": {
        "id": "pqkkEArbC5VC"
      },
      "execution_count": null,
      "outputs": []
    },
    {
      "cell_type": "code",
      "source": [
        "import tensorflow.keras\n",
        "from keras.models import Sequential\n",
        "from keras.layers import Dense"
      ],
      "metadata": {
        "id": "6c-hFxE1C7GT"
      },
      "execution_count": null,
      "outputs": []
    },
    {
      "cell_type": "code",
      "source": [
        "df = pd.read_csv(\"/content/drive/MyDrive/419_project/FINAL_FROM_DF.csv\")\n",
        "x=pd.to_datetime(df['TIMESTAMP'])\n",
        "df['DATE']=x.dt.day\n",
        "df['MONTH']=x.dt.month\n",
        "df['YEAR']=x.dt.year\n",
        "del x"
      ],
      "metadata": {
        "id": "pakcXE4VC7DX"
      },
      "execution_count": null,
      "outputs": []
    },
    {
      "cell_type": "code",
      "source": [
        "stock='SRTRANSFIN'"
      ],
      "metadata": {
        "id": "WeC1MJKbC7AT"
      },
      "execution_count": null,
      "outputs": []
    },
    {
      "cell_type": "code",
      "source": [
        "x_stock = df[df.SYMBOL==stock][['DATE','MONTH','YEAR']]\n",
        "x_stock=torch.tensor(x_stock.to_numpy()).to(torch.float)\n",
        "y_stock = df[df.SYMBOL==stock]['CLOSE']\n",
        "y_stock=torch.tensor(y_stock.to_numpy()).to(torch.float)"
      ],
      "metadata": {
        "id": "PA6d6a5OC69L"
      },
      "execution_count": null,
      "outputs": []
    },
    {
      "cell_type": "code",
      "source": [
        "model = Sequential()\n",
        "model.add(Dense(256,activation='relu', input_dim = 3))\n",
        "model.add(Dense(256,activation='relu'))\n",
        "model.add(Dense(256,activation='relu'))\n",
        "model.add(Dense(128,activation='relu'))\n",
        "model.add(Dense(128,activation='relu'))\n",
        "model.add(Dense(64,activation='relu'))\n",
        "model.add(Dense(1, activation='linear'))\n",
        "model.summary()"
      ],
      "metadata": {
        "id": "G7QW_DlYC66Q"
      },
      "execution_count": null,
      "outputs": []
    },
    {
      "cell_type": "code",
      "source": [
        "x_stock = df[df.SYMBOL==stock][['DATE','MONTH','YEAR']]\n",
        "y_stock = df[df.SYMBOL==stock]['CLOSE']"
      ],
      "metadata": {
        "id": "t4PzaVnnC63S"
      },
      "execution_count": null,
      "outputs": []
    },
    {
      "cell_type": "code",
      "source": [
        "x_train, x_test, y_train, y_test = train_test_split(x_stock, y_stock, test_size= 0.33 , random_state=42)"
      ],
      "metadata": {
        "id": "4wXSyiYRDG0j"
      },
      "execution_count": null,
      "outputs": []
    },
    {
      "cell_type": "code",
      "source": [
        "model.compile(optimizer= 'adam', loss='mean_squared_error')\n",
        "\n",
        "epochs_hist=model.fit(x_train, y_train, epochs=100, batch_size= 100, verbose=1)"
      ],
      "metadata": {
        "id": "geS4KbSHDGxf"
      },
      "execution_count": null,
      "outputs": []
    },
    {
      "cell_type": "code",
      "source": [
        "y_prediction3 = model.predict(x_test)"
      ],
      "metadata": {
        "id": "QSywRgZ8DGt0"
      },
      "execution_count": null,
      "outputs": []
    },
    {
      "cell_type": "code",
      "source": [
        "from sklearn.metrics import mean_squared_error"
      ],
      "metadata": {
        "id": "5ofH22l_DGqs"
      },
      "execution_count": null,
      "outputs": []
    },
    {
      "cell_type": "code",
      "source": [
        "np.sqrt(mean_squared_error(y_test, y_prediction3))"
      ],
      "metadata": {
        "id": "uSTHBUUKC60a"
      },
      "execution_count": null,
      "outputs": []
    },
    {
      "cell_type": "code",
      "source": [
        "plt.scatter(y_test, y_prediction3)\n",
        "plt.xlabel(\"Actual Prices\")\n",
        "plt.ylabel(\" Estimated Prices\")\n",
        "plt.title(\"Comparison between actual and estimated prices\")\n",
        "plt.show()"
      ],
      "metadata": {
        "id": "IXpob3WVDQt7"
      },
      "execution_count": null,
      "outputs": []
    },
    {
      "cell_type": "code",
      "source": [
        "plt.plot(y_test, color = 'red', label = 'Actual stock price')\n",
        "plt.plot(y_prediction3, color = 'blue', label = 'Predicted stock price')\n",
        "plt.title('Comparison between actual and predicted stock prices')\n",
        "plt.xlabel('Time')\n",
        "plt.ylabel('Stock Price')\n",
        "plt.legend()"
      ],
      "metadata": {
        "id": "pQ-bshAHDQqX"
      },
      "execution_count": null,
      "outputs": []
    },
    {
      "cell_type": "code",
      "source": [
        ""
      ],
      "metadata": {
        "id": "5rRQbe7uDQnj"
      },
      "execution_count": null,
      "outputs": []
    },
    {
      "cell_type": "code",
      "source": [
        ""
      ],
      "metadata": {
        "id": "ZAFMjowGDQkp"
      },
      "execution_count": null,
      "outputs": []
    },
    {
      "cell_type": "code",
      "source": [
        ""
      ],
      "metadata": {
        "id": "5QKPOUKiC6xj"
      },
      "execution_count": null,
      "outputs": []
    }
  ]
}